{
 "cells": [
  {
   "cell_type": "code",
   "execution_count": 3,
   "metadata": {},
   "outputs": [
    {
     "data": {
      "text/plain": [
       "'mnt/data/scratch_os'"
      ]
     },
     "execution_count": 3,
     "metadata": {},
     "output_type": "execute_result"
    }
   ],
   "source": [
    "# Let's begin by creating a basic directory structure for the custom OS with a minimal bootloader and kernel.\n",
    "# This will be a very simplified structure, but it's a starting point for further development.\n",
    "\n",
    "import os\n",
    "\n",
    "# Define the base directory for the OS project\n",
    "base_dir = \"mnt/data/scratch_os\"\n",
    "\n",
    "# Define the directory structure\n",
    "dirs = [\n",
    "    \"bootloader\",\n",
    "    \"kernel\",\n",
    "    \"drivers\",\n",
    "    \"userland\",\n",
    "    \"build\",\n",
    "    \"docs\"\n",
    "]\n",
    "\n",
    "# Create the directory structure\n",
    "for dir_name in dirs:\n",
    "    os.makedirs(os.path.join(base_dir, dir_name), exist_ok=True)\n",
    "\n",
    "# Create some placeholder files for the bootloader, kernel, and userland\n",
    "files = {\n",
    "    \"bootloader/boot.asm\": \"; Bootloader code goes here\",\n",
    "    \"kernel/kernel.c\": \"/* Kernel code goes here */\",\n",
    "    \"drivers/keyboard.c\": \"/* Keyboard driver code goes here */\",\n",
    "    \"userland/shell.c\": \"/* Shell code goes here */\",\n",
    "    \"docs/README.md\": \"# Scratch OS\\nThis is a minimal OS built from scratch in C.\",\n",
    "}\n",
    "\n",
    "# Write the placeholder content to the files\n",
    "for file_path, content in files.items():\n",
    "    with open(os.path.join(base_dir, file_path), \"w\") as file:\n",
    "        file.write(content)\n",
    "\n",
    "base_dir\n"
   ]
  },
  {
   "cell_type": "code",
   "execution_count": 4,
   "metadata": {},
   "outputs": [
    {
     "data": {
      "text/plain": [
       "'mnt/data/scratch_os'"
      ]
     },
     "execution_count": 4,
     "metadata": {},
     "output_type": "execute_result"
    }
   ],
   "source": [
    "# Let's create more detailed content for the files including a basic bootloader in assembly and a minimal kernel in C.\n",
    "\n",
    "# Bootloader code in Assembly (boot.asm)\n",
    "bootloader_code = \"\"\"\n",
    "[org 0x7C00]          ; Origin, BIOS loads bootloader here by default\n",
    "mov ah, 0x0E          ; Teletype output, writes characters to screen\n",
    "mov al, 'X'           ; Character to print (placeholder for testing)\n",
    "int 0x10              ; BIOS interrupt for screen output\n",
    "\n",
    "jmp $                 ; Infinite loop to stop execution\n",
    "\n",
    "times 510-($-$$) db 0 ; Fill the rest of the boot sector with zeros\n",
    "dw 0xAA55             ; Boot signature (must be 0xAA55)\n",
    "\"\"\"\n",
    "\n",
    "# Minimal Kernel in C (kernel.c)\n",
    "kernel_code = \"\"\"\n",
    "void main() {\n",
    "    const char *str = \"Hello, World! This is a minimal kernel.\";\n",
    "    char *vidptr = (char*)0xb8000;  // Video memory in text mode\n",
    "    unsigned int i = 0;\n",
    "    unsigned int j = 0;\n",
    "\n",
    "    // Clear the screen by writing blank spaces to video memory\n",
    "    while(j < 80 * 25 * 2) {\n",
    "        vidptr[j] = ' ';\n",
    "        vidptr[j+1] = 0x07;  // Light grey on black background\n",
    "        j += 2;\n",
    "    }\n",
    "\n",
    "    j = 0;\n",
    "    // Write the string to video memory\n",
    "    while(str[j] != 0) {\n",
    "        vidptr[i] = str[j];\n",
    "        vidptr[i+1] = 0x07;  // Light grey on black background\n",
    "        ++j;\n",
    "        i += 2;\n",
    "    }\n",
    "\n",
    "    while(1);  // Halt the CPU indefinitely\n",
    "}\n",
    "\"\"\"\n",
    "\n",
    "# Keyboard driver placeholder (keyboard.c)\n",
    "keyboard_driver_code = \"\"\"\n",
    "/* Placeholder for keyboard driver */\n",
    "\"\"\"\n",
    "\n",
    "# Minimal shell placeholder (shell.c)\n",
    "shell_code = \"\"\"\n",
    "/* Placeholder for minimal shell implementation */\n",
    "\"\"\"\n",
    "\n",
    "# Write the detailed content to the corresponding files\n",
    "files = {\n",
    "    \"bootloader/boot.asm\": bootloader_code,\n",
    "    \"kernel/kernel.c\": kernel_code,\n",
    "    \"drivers/keyboard.c\": keyboard_driver_code,\n",
    "    \"userland/shell.c\": shell_code,\n",
    "}\n",
    "\n",
    "# Write the new content to the files\n",
    "for file_path, content in files.items():\n",
    "    with open(os.path.join(base_dir, file_path), \"w\") as file:\n",
    "        file.write(content)\n",
    "\n",
    "base_dir\n"
   ]
  }
 ],
 "metadata": {
  "kernelspec": {
   "display_name": "Python 3",
   "language": "python",
   "name": "python3"
  },
  "language_info": {
   "codemirror_mode": {
    "name": "ipython",
    "version": 3
   },
   "file_extension": ".py",
   "mimetype": "text/x-python",
   "name": "python",
   "nbconvert_exporter": "python",
   "pygments_lexer": "ipython3",
   "version": "3.12.5"
  }
 },
 "nbformat": 4,
 "nbformat_minor": 2
}
